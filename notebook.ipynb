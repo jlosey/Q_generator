{
 "cells": [
  {
   "cell_type": "code",
   "execution_count": 1,
   "metadata": {},
   "outputs": [],
   "source": [
    "#Load modules\n",
    "import glob\n",
    "from zipfile import ZipFile\n",
    "import io as iio\n",
    "import numpy as np\n",
    "import scipy as sp\n",
    "#Load local files needed for calulations\n",
    "from custom_constants import *\n",
    "from helperFunctions import *\n",
    "from GeneratorFunctions import *\n"
   ]
  },
  {
   "cell_type": "markdown",
   "metadata": {},
   "source": [
    "After compiling the trajectories in transition matricies located in the Data folder, the Q matrix is generated in the cell below."
   ]
  },
  {
   "cell_type": "code",
   "execution_count": 13,
   "metadata": {},
   "outputs": [
    {
     "name": "stdout",
     "output_type": "stream",
     "text": [
      "1000 1000 10000\n",
      "1000 1000 10001\n",
      "1000 1000 10002\n",
      "1000 1000 10003\n",
      "1000 1000 10004\n",
      "1000 1000 10005\n",
      "1000 1000 10006\n"
     ]
    },
    {
     "name": "stderr",
     "output_type": "stream",
     "text": [
      "/home/james/Q_generator/GeneratorFunctions.py:291: RuntimeWarning: invalid value encountered in log\n",
      "  logLam = np.log(D)\n"
     ]
    },
    {
     "name": "stdout",
     "output_type": "stream",
     "text": [
      "1000 1000 10007\n",
      "1000 1000 10008\n",
      "1000 1000 10009\n",
      "1000 1000 10010\n",
      "1000 1000 10011\n",
      "1000 1000 10012\n",
      "1000 1000 10013\n",
      "1000 1000 10014\n",
      "1000 1000 10015\n",
      "1000 1000 10016\n",
      "1000 1000 10017\n",
      "1000 1000 10018\n",
      "1000 1000 10019\n",
      "1000 1000 10020\n",
      "1000 1000 10021\n",
      "1000 1000 10022\n",
      "1000 1000 10023\n",
      "1000 1000 10024\n",
      "1000 1000 10025\n",
      "1000 1000 10026\n",
      "1000 1000 10027\n",
      "1000 1000 10028\n",
      "1000 1000 10029\n",
      "1000 1000 10030\n",
      "1000 1000 10031\n",
      "1000 1000 10032\n",
      "1000 1000 10033\n",
      "1000 1000 10034\n",
      "1000 1000 10035\n",
      "1000 1000 10036\n",
      "1000 1000 10037\n",
      "1000 1000 10038\n",
      "1000 1000 10039\n",
      "1000 1000 10040\n"
     ]
    },
    {
     "name": "stderr",
     "output_type": "stream",
     "text": [
      "/home/james/Q_generator/GeneratorFunctions.py:291: RuntimeWarning: divide by zero encountered in log\n",
      "  logLam = np.log(D)\n",
      "/home/james/Q_generator/GeneratorFunctions.py:315: RuntimeWarning: invalid value encountered in multiply\n",
      "  q += logLam[i]*np.kron(Psi[i:i+1,:], Psi[i:i+1,:].conj())/(LA.norm(Psi[i,:]))**2\n",
      "/home/james/Q_generator/GeneratorFunctions.py:316: RuntimeWarning: invalid value encountered in multiply\n",
      "  q += logLam[i]*np.kron(Phi[:,i:i+1].conj().T, Phi[:,i:i+1].T)/(LA.norm(Phi[:,i]))**2\n",
      "/home/james/Q_generator/GeneratorFunctions.py:317: RuntimeWarning: invalid value encountered in multiply\n",
      "  q += logLam[i]*np.kron(Phi[:,i:i+1].conj().T, Psi[i:i+1,:].conj())/((LA.norm(Psi[i,:]))**2 * (LA.norm(Phi[:,i]))**2)#/(abs(logLam[i]))**2\n",
      "/home/james/Q_generator/GeneratorFunctions.py:319: RuntimeWarning: invalid value encountered in matmul\n",
      "  q = - (q @ S).reshape(n*(n-1),)\n"
     ]
    },
    {
     "name": "stdout",
     "output_type": "stream",
     "text": [
      "1000 1000 10041\n",
      "1000 1000 10042\n",
      "1000 1000 10043\n",
      "1000 1000 10044\n",
      "1000 1000 10045\n",
      "1000 1000 10046\n",
      "1000 1000 10047\n",
      "1000 1000 10048\n",
      "1000 1000 10049\n",
      "1000 1000 10050\n",
      "1000 1000 10051\n",
      "1000 1000 10052\n",
      "1000 1000 10053\n",
      "1000 1000 10054\n",
      "1000 1000 10055\n",
      "1000 1000 10056\n",
      "1000 1000 10057\n",
      "1000 1000 10058\n",
      "1000 1000 10059\n"
     ]
    },
    {
     "ename": "KeyboardInterrupt",
     "evalue": "",
     "output_type": "error",
     "traceback": [
      "\u001b[0;31m---------------------------------------------------------------------------\u001b[0m",
      "\u001b[0;31mKeyboardInterrupt\u001b[0m                         Traceback (most recent call last)",
      "\u001b[0;32m<ipython-input-13-928e29943f54>\u001b[0m in \u001b[0;36m<module>\u001b[0;34m\u001b[0m\n\u001b[1;32m     20\u001b[0m                 \u001b[0mmat\u001b[0m \u001b[0;34m=\u001b[0m \u001b[0marr\u001b[0m\u001b[0;34m.\u001b[0m\u001b[0mreshape\u001b[0m\u001b[0;34m(\u001b[0m\u001b[0;34m(\u001b[0m\u001b[0;36m47\u001b[0m\u001b[0;34m,\u001b[0m\u001b[0;36m47\u001b[0m\u001b[0;34m)\u001b[0m\u001b[0;34m)\u001b[0m\u001b[0;34m\u001b[0m\u001b[0;34m\u001b[0m\u001b[0m\n\u001b[1;32m     21\u001b[0m                 \u001b[0;31m#run each estimator on the matrix\u001b[0m\u001b[0;34m\u001b[0m\u001b[0;34m\u001b[0m\u001b[0;34m\u001b[0m\u001b[0m\n\u001b[0;32m---> 22\u001b[0;31m                 \u001b[0mQ\u001b[0m \u001b[0;34m=\u001b[0m \u001b[0mfi\u001b[0m\u001b[0;34m(\u001b[0m\u001b[0mmat\u001b[0m\u001b[0;34m,\u001b[0m\u001b[0mint\u001b[0m\u001b[0;34m(\u001b[0m\u001b[0mtau\u001b[0m\u001b[0;34m)\u001b[0m\u001b[0;34m)\u001b[0m\u001b[0;34m\u001b[0m\u001b[0;34m\u001b[0m\u001b[0m\n\u001b[0m\u001b[1;32m     23\u001b[0m                 \u001b[0;31m#write matrix to boostrap folder\u001b[0m\u001b[0;34m\u001b[0m\u001b[0;34m\u001b[0m\u001b[0;34m\u001b[0m\u001b[0m\n\u001b[1;32m     24\u001b[0m                 \u001b[0mwriteMatrix\u001b[0m\u001b[0;34m(\u001b[0m\u001b[0mQ\u001b[0m\u001b[0;34m,\u001b[0m \u001b[0;34m\"Data/bootstrap/\"\u001b[0m\u001b[0;34m+\u001b[0m\u001b[0mdiv\u001b[0m\u001b[0;34m+\u001b[0m\u001b[0;34m\"tau\"\u001b[0m\u001b[0;34m+\u001b[0m\u001b[0;34mf\"_{tau}\"\u001b[0m\u001b[0;34m+\u001b[0m\u001b[0;34m\".mat\"\u001b[0m\u001b[0;34m+\u001b[0m\u001b[0;34mf\"_{mi}\"\u001b[0m\u001b[0;34m+\u001b[0m\u001b[0;34mf\"_{seed}\"\u001b[0m\u001b[0;34m)\u001b[0m\u001b[0;34m\u001b[0m\u001b[0;34m\u001b[0m\u001b[0m\n",
      "\u001b[0;32m~/Q_generator/GeneratorFunctions.py\u001b[0m in \u001b[0;36mqp_rate\u001b[0;34m(matrix, tau)\u001b[0m\n\u001b[1;32m    311\u001b[0m         \u001b[0mP\u001b[0m \u001b[0;34m+=\u001b[0m \u001b[0mnp\u001b[0m\u001b[0;34m.\u001b[0m\u001b[0mkron\u001b[0m\u001b[0;34m(\u001b[0m\u001b[0mnp\u001b[0m\u001b[0;34m.\u001b[0m\u001b[0meye\u001b[0m\u001b[0;34m(\u001b[0m\u001b[0mn\u001b[0m\u001b[0;34m)\u001b[0m\u001b[0;34m,\u001b[0m \u001b[0mPsi\u001b[0m\u001b[0;34m[\u001b[0m\u001b[0mi\u001b[0m\u001b[0;34m:\u001b[0m\u001b[0mi\u001b[0m\u001b[0;34m+\u001b[0m\u001b[0;36m1\u001b[0m\u001b[0;34m,\u001b[0m\u001b[0;34m:\u001b[0m\u001b[0;34m]\u001b[0m\u001b[0;34m.\u001b[0m\u001b[0mconj\u001b[0m\u001b[0;34m(\u001b[0m\u001b[0;34m)\u001b[0m\u001b[0;34m.\u001b[0m\u001b[0mT\u001b[0m \u001b[0;34m@\u001b[0m \u001b[0mPsi\u001b[0m\u001b[0;34m[\u001b[0m\u001b[0mi\u001b[0m\u001b[0;34m:\u001b[0m\u001b[0mi\u001b[0m\u001b[0;34m+\u001b[0m\u001b[0;36m1\u001b[0m\u001b[0;34m,\u001b[0m\u001b[0;34m:\u001b[0m\u001b[0;34m]\u001b[0m\u001b[0;34m)\u001b[0m\u001b[0;34m/\u001b[0m\u001b[0;34m(\u001b[0m\u001b[0mLA\u001b[0m\u001b[0;34m.\u001b[0m\u001b[0mnorm\u001b[0m\u001b[0;34m(\u001b[0m\u001b[0mPsi\u001b[0m\u001b[0;34m[\u001b[0m\u001b[0mi\u001b[0m\u001b[0;34m,\u001b[0m\u001b[0;34m:\u001b[0m\u001b[0;34m]\u001b[0m\u001b[0;34m)\u001b[0m\u001b[0;34m)\u001b[0m\u001b[0;34m**\u001b[0m\u001b[0;36m2\u001b[0m\u001b[0;34m\u001b[0m\u001b[0;34m\u001b[0m\u001b[0m\n\u001b[1;32m    312\u001b[0m         \u001b[0mP\u001b[0m \u001b[0;34m+=\u001b[0m \u001b[0mnp\u001b[0m\u001b[0;34m.\u001b[0m\u001b[0mkron\u001b[0m\u001b[0;34m(\u001b[0m\u001b[0mPhi\u001b[0m\u001b[0;34m[\u001b[0m\u001b[0;34m:\u001b[0m\u001b[0;34m,\u001b[0m\u001b[0mi\u001b[0m\u001b[0;34m:\u001b[0m\u001b[0mi\u001b[0m\u001b[0;34m+\u001b[0m\u001b[0;36m1\u001b[0m\u001b[0;34m]\u001b[0m\u001b[0;34m.\u001b[0m\u001b[0mconj\u001b[0m\u001b[0;34m(\u001b[0m\u001b[0;34m)\u001b[0m \u001b[0;34m@\u001b[0m \u001b[0mPhi\u001b[0m\u001b[0;34m[\u001b[0m\u001b[0;34m:\u001b[0m\u001b[0;34m,\u001b[0m\u001b[0mi\u001b[0m\u001b[0;34m:\u001b[0m\u001b[0mi\u001b[0m\u001b[0;34m+\u001b[0m\u001b[0;36m1\u001b[0m\u001b[0;34m]\u001b[0m\u001b[0;34m.\u001b[0m\u001b[0mT\u001b[0m\u001b[0;34m,\u001b[0m \u001b[0mnp\u001b[0m\u001b[0;34m.\u001b[0m\u001b[0meye\u001b[0m\u001b[0;34m(\u001b[0m\u001b[0mn\u001b[0m\u001b[0;34m)\u001b[0m\u001b[0;34m)\u001b[0m\u001b[0;34m/\u001b[0m\u001b[0;34m(\u001b[0m\u001b[0mLA\u001b[0m\u001b[0;34m.\u001b[0m\u001b[0mnorm\u001b[0m\u001b[0;34m(\u001b[0m\u001b[0mPhi\u001b[0m\u001b[0;34m[\u001b[0m\u001b[0;34m:\u001b[0m\u001b[0;34m,\u001b[0m\u001b[0mi\u001b[0m\u001b[0;34m]\u001b[0m\u001b[0;34m)\u001b[0m\u001b[0;34m)\u001b[0m\u001b[0;34m**\u001b[0m\u001b[0;36m2\u001b[0m\u001b[0;34m\u001b[0m\u001b[0;34m\u001b[0m\u001b[0m\n\u001b[0;32m--> 313\u001b[0;31m         \u001b[0mP\u001b[0m \u001b[0;34m+=\u001b[0m \u001b[0mnp\u001b[0m\u001b[0;34m.\u001b[0m\u001b[0mkron\u001b[0m\u001b[0;34m(\u001b[0m\u001b[0mPhi\u001b[0m\u001b[0;34m[\u001b[0m\u001b[0;34m:\u001b[0m\u001b[0;34m,\u001b[0m\u001b[0mi\u001b[0m\u001b[0;34m:\u001b[0m\u001b[0mi\u001b[0m\u001b[0;34m+\u001b[0m\u001b[0;36m1\u001b[0m\u001b[0;34m]\u001b[0m\u001b[0;34m.\u001b[0m\u001b[0mconj\u001b[0m\u001b[0;34m(\u001b[0m\u001b[0;34m)\u001b[0m \u001b[0;34m@\u001b[0m \u001b[0mPhi\u001b[0m\u001b[0;34m[\u001b[0m\u001b[0;34m:\u001b[0m\u001b[0;34m,\u001b[0m\u001b[0mi\u001b[0m\u001b[0;34m:\u001b[0m\u001b[0mi\u001b[0m\u001b[0;34m+\u001b[0m\u001b[0;36m1\u001b[0m\u001b[0;34m]\u001b[0m\u001b[0;34m.\u001b[0m\u001b[0mT\u001b[0m\u001b[0;34m,\u001b[0m \u001b[0mPsi\u001b[0m\u001b[0;34m[\u001b[0m\u001b[0mi\u001b[0m\u001b[0;34m:\u001b[0m\u001b[0mi\u001b[0m\u001b[0;34m+\u001b[0m\u001b[0;36m1\u001b[0m\u001b[0;34m,\u001b[0m\u001b[0;34m:\u001b[0m\u001b[0;34m]\u001b[0m\u001b[0;34m.\u001b[0m\u001b[0mconj\u001b[0m\u001b[0;34m(\u001b[0m\u001b[0;34m)\u001b[0m\u001b[0;34m.\u001b[0m\u001b[0mT\u001b[0m \u001b[0;34m@\u001b[0m \u001b[0mPsi\u001b[0m\u001b[0;34m[\u001b[0m\u001b[0mi\u001b[0m\u001b[0;34m:\u001b[0m\u001b[0mi\u001b[0m\u001b[0;34m+\u001b[0m\u001b[0;36m1\u001b[0m\u001b[0;34m,\u001b[0m\u001b[0;34m:\u001b[0m\u001b[0;34m]\u001b[0m\u001b[0;34m)\u001b[0m\u001b[0;34m/\u001b[0m\u001b[0;34m(\u001b[0m\u001b[0;34m(\u001b[0m\u001b[0mLA\u001b[0m\u001b[0;34m.\u001b[0m\u001b[0mnorm\u001b[0m\u001b[0;34m(\u001b[0m\u001b[0mPsi\u001b[0m\u001b[0;34m[\u001b[0m\u001b[0mi\u001b[0m\u001b[0;34m,\u001b[0m\u001b[0;34m:\u001b[0m\u001b[0;34m]\u001b[0m\u001b[0;34m)\u001b[0m\u001b[0;34m)\u001b[0m\u001b[0;34m**\u001b[0m\u001b[0;36m2\u001b[0m \u001b[0;34m*\u001b[0m \u001b[0;34m(\u001b[0m\u001b[0mLA\u001b[0m\u001b[0;34m.\u001b[0m\u001b[0mnorm\u001b[0m\u001b[0;34m(\u001b[0m\u001b[0mPhi\u001b[0m\u001b[0;34m[\u001b[0m\u001b[0;34m:\u001b[0m\u001b[0;34m,\u001b[0m\u001b[0mi\u001b[0m\u001b[0;34m]\u001b[0m\u001b[0;34m)\u001b[0m\u001b[0;34m)\u001b[0m\u001b[0;34m**\u001b[0m\u001b[0;36m2\u001b[0m\u001b[0;34m)\u001b[0m\u001b[0;31m#/(abs(logLam[i]))**2\u001b[0m\u001b[0;34m\u001b[0m\u001b[0;34m\u001b[0m\u001b[0m\n\u001b[0m\u001b[1;32m    314\u001b[0m \u001b[0;34m\u001b[0m\u001b[0m\n\u001b[1;32m    315\u001b[0m         \u001b[0mq\u001b[0m \u001b[0;34m+=\u001b[0m \u001b[0mlogLam\u001b[0m\u001b[0;34m[\u001b[0m\u001b[0mi\u001b[0m\u001b[0;34m]\u001b[0m\u001b[0;34m*\u001b[0m\u001b[0mnp\u001b[0m\u001b[0;34m.\u001b[0m\u001b[0mkron\u001b[0m\u001b[0;34m(\u001b[0m\u001b[0mPsi\u001b[0m\u001b[0;34m[\u001b[0m\u001b[0mi\u001b[0m\u001b[0;34m:\u001b[0m\u001b[0mi\u001b[0m\u001b[0;34m+\u001b[0m\u001b[0;36m1\u001b[0m\u001b[0;34m,\u001b[0m\u001b[0;34m:\u001b[0m\u001b[0;34m]\u001b[0m\u001b[0;34m,\u001b[0m \u001b[0mPsi\u001b[0m\u001b[0;34m[\u001b[0m\u001b[0mi\u001b[0m\u001b[0;34m:\u001b[0m\u001b[0mi\u001b[0m\u001b[0;34m+\u001b[0m\u001b[0;36m1\u001b[0m\u001b[0;34m,\u001b[0m\u001b[0;34m:\u001b[0m\u001b[0;34m]\u001b[0m\u001b[0;34m.\u001b[0m\u001b[0mconj\u001b[0m\u001b[0;34m(\u001b[0m\u001b[0;34m)\u001b[0m\u001b[0;34m)\u001b[0m\u001b[0;34m/\u001b[0m\u001b[0;34m(\u001b[0m\u001b[0mLA\u001b[0m\u001b[0;34m.\u001b[0m\u001b[0mnorm\u001b[0m\u001b[0;34m(\u001b[0m\u001b[0mPsi\u001b[0m\u001b[0;34m[\u001b[0m\u001b[0mi\u001b[0m\u001b[0;34m,\u001b[0m\u001b[0;34m:\u001b[0m\u001b[0;34m]\u001b[0m\u001b[0;34m)\u001b[0m\u001b[0;34m)\u001b[0m\u001b[0;34m**\u001b[0m\u001b[0;36m2\u001b[0m\u001b[0;34m\u001b[0m\u001b[0;34m\u001b[0m\u001b[0m\n",
      "\u001b[0;31mKeyboardInterrupt\u001b[0m: "
     ]
    }
   ],
   "source": [
    "zip_name = \"Compiled/bootstrap_data.zip\"\n",
    "method_list = [\"DA\",\"WA\",\"QOG\",\"CWO\",\"QP\",\"PA\"]\n",
    "function_list = [diagonalAdjustment,weightedAdjustment,QOG,CWO,qp_rate,polySolver]\n",
    "\n",
    "# opening the zip file in READ mode \n",
    "with ZipFile(zip_name, 'r') as z: \n",
    "    for file in z.namelist():        \n",
    "        fsplit1 = file.split('/')[-1]\n",
    "        fsplit2 = fsplit1.split('_')\n",
    "        div = fsplit2[0].split('tau')[0]\n",
    "        tau = fsplit2[1].split('.')[0]\n",
    "        seed = fsplit2[2]\n",
    "        print(div,tau,seed)\n",
    "        #loop over estimators\n",
    "        for fi,mi in zip(function_list,method_list):\n",
    "            #open each file in zip\n",
    "            with z.open(file) as myfile:\n",
    "                mat_string = myfile.read().decode('UTF-8')\n",
    "                arr = np.fromstring(mat_string,dtype=np.float32,sep=' ')\n",
    "                mat = arr.reshape((47,47))\n",
    "                #run each estimator on the matrix            \n",
    "                Q = fi(mat,int(tau))\n",
    "                #write matrix to boostrap folder\n",
    "                writeMatrix(Q, \"Data/bootstrap/\"+div+\"tau\"+f\"_{tau}\"+\".mat\"+f\"_{mi}\"+f\"_{seed}\")\n",
    "                #input()\n",
    "                "
   ]
  },
  {
   "cell_type": "code",
   "execution_count": 5,
   "metadata": {},
   "outputs": [],
   "source": [
    "method_list = [\"DA\",\"WA\",\"QOG\",\"CWO\",\"QP\",\"PA\"]\n",
    "function_list = [diagonalAdjustment,weightedAdjustment,QOG,CWO,qp_rate,polySolver]\n",
    "\n",
    "for i in glob.glob(\"Compiled/*.mat\"):\n",
    "    file_name = i.split(\"/\")[-1]\n",
    "    tau = int(file_name.split(\"tau_\")[-1].split(\".\")[0])\n",
    "    mat=readMatrix(i)\n",
    "    for fi,mi in zip(function_list,method_list):\n",
    "        Q = fi(mat,tau)\n",
    "        writeMatrix(Q, \"Data2/\"+file_name+f\"_{mi}\")"
   ]
  },
  {
   "cell_type": "code",
   "execution_count": 7,
   "metadata": {},
   "outputs": [],
   "source": [
    "SWITCH=0\n",
    "if SWITCH==1:\n",
    "    for i in glob.glob(\"Compiled/*.mat\"):\n",
    "        a=readMatrix(i)\n",
    "        b=diagonalAdjustment(a)\n",
    "        writeMatrix(b, i+\"_DA\")\n",
    "        a=readMatrix(i)\n",
    "        b=weightedAdjustment(a)\n",
    "        writeMatrix(b, i+\"_WA\")\n",
    "        a=readMatrix(i)\n",
    "        b=QOG(a)\n",
    "        writeMatrix(b, i+\"_QOG\")\n",
    "        a=readMatrix(i)\n",
    "        b=CWO(a)\n",
    "        writeMatrix(b, i+\"_CWO\")\n",
    "    #EM and MLE are done on supercomputers/BSLGPUs"
   ]
  },
  {
   "cell_type": "markdown",
   "metadata": {},
   "source": [
    "EM and MLE were generated using HPC resources as these algorithms are computationally expensive.\n",
    "Running EM and MLE was done using the "
   ]
  },
  {
   "cell_type": "code",
   "execution_count": null,
   "metadata": {},
   "outputs": [],
   "source": []
  },
  {
   "cell_type": "code",
   "execution_count": null,
   "metadata": {},
   "outputs": [],
   "source": [
    "#Calc MFPT"
   ]
  },
  {
   "cell_type": "code",
   "execution_count": null,
   "metadata": {},
   "outputs": [],
   "source": [
    "#Plot Potential"
   ]
  }
 ],
 "metadata": {
  "kernelspec": {
   "display_name": "Python 3",
   "language": "python",
   "name": "python3"
  },
  "language_info": {
   "codemirror_mode": {
    "name": "ipython",
    "version": 3
   },
   "file_extension": ".py",
   "mimetype": "text/x-python",
   "name": "python",
   "nbconvert_exporter": "python",
   "pygments_lexer": "ipython3",
   "version": "3.8.8"
  }
 },
 "nbformat": 4,
 "nbformat_minor": 4
}
