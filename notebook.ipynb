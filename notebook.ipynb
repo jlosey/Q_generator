{
 "cells": [
  {
   "cell_type": "code",
   "execution_count": 2,
   "metadata": {},
   "outputs": [],
   "source": [
    "#Load modules\n",
    "import glob\n",
    "import numpy as np\n",
    "import scipy as sp\n",
    "#Load local files needed for calulations\n",
    "from constants import *\n",
    "from helperFunctions import *\n",
    "from GeneratorFunctions import *\n"
   ]
  },
  {
   "source": [
    "After compiling the trajectories in transition matricies located in the Data folder, the Q matrix is generated in the cell below."
   ],
   "cell_type": "markdown",
   "metadata": {}
  },
  {
   "cell_type": "code",
   "execution_count": 5,
   "metadata": {},
   "outputs": [],
   "source": [
    "method_list = [\"DA\",\"WA\",\"QOG\",\"CWO\",\"QP\",\"PA\"]\n",
    "function_list = [diagonalAdjustment,weightedAdjustment,QOG,CWO,qp_rate,polySolver]\n",
    "\n",
    "for i in glob.glob(\"Compiled/*.mat\"):\n",
    "    file_name = i.split(\"/\")[-1]\n",
    "    tau = int(file_name.split(\"tau_\")[-1].split(\".\")[0])\n",
    "    mat=readMatrix(i)\n",
    "    for fi,mi in zip(function_list,method_list):\n",
    "        Q = fi(mat,tau)\n",
    "        writeMatrix(Q, \"Data2/\"+file_name+f\"_{mi}\")"
   ]
  },
  {
   "cell_type": "code",
   "execution_count": 7,
   "metadata": {},
   "outputs": [],
   "source": [
    "SWITCH=0\n",
    "if SWITCH==1:\n",
    "    for i in glob.glob(\"Compiled/*.mat\"):\n",
    "        a=readMatrix(i)\n",
    "        b=diagonalAdjustment(a)\n",
    "        writeMatrix(b, i+\"_DA\")\n",
    "        a=readMatrix(i)\n",
    "        b=weightedAdjustment(a)\n",
    "        writeMatrix(b, i+\"_WA\")\n",
    "        a=readMatrix(i)\n",
    "        b=QOG(a)\n",
    "        writeMatrix(b, i+\"_QOG\")\n",
    "        a=readMatrix(i)\n",
    "        b=CWO(a)\n",
    "        writeMatrix(b, i+\"_CWO\")\n",
    "    #EM and MLE are done on supercomputers/BSLGPUs"
   ]
  },
  {
   "source": [
    "EM and MLE were generated using HPC resources as these algorithms are computationally expensive.\n",
    "Running EM and MLE was done using the "
   ],
   "cell_type": "markdown",
   "metadata": {}
  },
  {
   "cell_type": "code",
   "execution_count": null,
   "metadata": {},
   "outputs": [],
   "source": []
  },
  {
   "cell_type": "code",
   "execution_count": null,
   "metadata": {},
   "outputs": [],
   "source": [
    "#Calc MFPT"
   ]
  },
  {
   "cell_type": "code",
   "execution_count": null,
   "metadata": {},
   "outputs": [],
   "source": [
    "#Plot Potential"
   ]
  }
 ],
 "metadata": {
  "kernelspec": {
   "display_name": "Python 3",
   "language": "python",
   "name": "python3"
  },
  "language_info": {
   "codemirror_mode": {
    "name": "ipython",
    "version": 3
   },
   "file_extension": ".py",
   "mimetype": "text/x-python",
   "name": "python",
   "nbconvert_exporter": "python",
   "pygments_lexer": "ipython3",
   "version": "3.8.5-final"
  }
 },
 "nbformat": 4,
 "nbformat_minor": 4
}
